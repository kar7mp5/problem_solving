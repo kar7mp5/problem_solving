{
 "cells": [
  {
   "cell_type": "markdown",
   "id": "29ef01f4",
   "metadata": {},
   "source": [
    "### [행렬 제곱](https://www.acmicpc.net/problem/10830)\n",
    "\n",
    "| 시간 제한 | 메모리 제한 | 제출 | 정답 | 맞힌 사람 | 정답 비율 |\n",
    "| :---: | :---: | :---: | :---: | :---: | :---: |\n",
    "| 1 초 | 256 MB | 49948 | 18268 | 14450 | 34.986% |\n",
    "\n",
    "### 문제\n",
    "크기가 N*N인 행렬 A가 주어진다. 이때, A의 B제곱을 구하는 프로그램을 작성하시오. 수가 매우 커질 수 있으니, A^B의 각 원소를 1,000으로 나눈 나머지를 출력한다.\n",
    "\n",
    "### 입력\n",
    "첫째 줄에 행렬의 크기 N과 B가 주어진다. (2 ≤ N ≤  5, 1 ≤ B ≤ 100,000,000,000)\n",
    "\n",
    "둘째 줄부터 N개의 줄에 행렬의 각 원소가 주어진다. 행렬의 각 원소는 1,000보다 작거나 같은 자연수 또는 0이다.\n",
    "\n",
    "### 출력\n",
    "첫째 줄부터 N개의 줄에 걸쳐 행렬 A를 B제곱한 결과를 출력한다."
   ]
  },
  {
   "cell_type": "code",
   "execution_count": 20,
   "id": "85ea03cf",
   "metadata": {},
   "outputs": [
    {
     "ename": "ValueError",
     "evalue": "not enough values to unpack (expected 2, got 0)",
     "output_type": "error",
     "traceback": [
      "\u001b[0;31m---------------------------------------------------------------------------\u001b[0m",
      "\u001b[0;31mValueError\u001b[0m                                Traceback (most recent call last)",
      "Cell \u001b[0;32mIn[20], line 30\u001b[0m\n\u001b[1;32m     27\u001b[0m \u001b[38;5;66;03m# sys.stdin = io.StringIO(test_input)\u001b[39;00m\n\u001b[1;32m     28\u001b[0m \u001b[38;5;28minput\u001b[39m \u001b[38;5;241m=\u001b[39m sys\u001b[38;5;241m.\u001b[39mstdin\u001b[38;5;241m.\u001b[39mreadline\n\u001b[0;32m---> 30\u001b[0m N, B \u001b[38;5;241m=\u001b[39m \u001b[38;5;28mmap\u001b[39m(\u001b[38;5;28mint\u001b[39m, \u001b[38;5;28minput\u001b[39m()\u001b[38;5;241m.\u001b[39msplit())\n\u001b[1;32m     31\u001b[0m m \u001b[38;5;241m=\u001b[39m [\u001b[38;5;28mlist\u001b[39m(\u001b[38;5;28mmap\u001b[39m(\u001b[38;5;28mint\u001b[39m, \u001b[38;5;28minput\u001b[39m()\u001b[38;5;241m.\u001b[39msplit())) \u001b[38;5;28;01mfor\u001b[39;00m _ \u001b[38;5;129;01min\u001b[39;00m \u001b[38;5;28mrange\u001b[39m(N)]\n\u001b[1;32m     33\u001b[0m result \u001b[38;5;241m=\u001b[39m solve(m, B)\n",
      "\u001b[0;31mValueError\u001b[0m: not enough values to unpack (expected 2, got 0)"
     ]
    }
   ],
   "source": [
    "import sys\n",
    "import io\n",
    "\n",
    "# test_input = \"\"\"2 5\n",
    "# 1 2\n",
    "# 3 4\n",
    "# \"\"\"\n",
    "\n",
    "def multiply(a, b):\n",
    "  matrix = [[0]*N for _ in range(N)]\n",
    "  for i in range(N):\n",
    "    for j in range(N):\n",
    "      for k in range(N):\n",
    "        matrix[i][j] += a[i][k]*b[k][j] % 1000\n",
    "\n",
    "  return matrix\n",
    "\n",
    "def solve(x, n):\n",
    "  if n == 1:\n",
    "    return x\n",
    "  tmp = solve(x, n//2)\n",
    "  if n % 2 == 0:\n",
    "    return multiply(tmp, tmp)\n",
    "  else:\n",
    "    return multiply(multiply(tmp, tmp), x)\n",
    "\n",
    "# sys.stdin = io.StringIO(test_input)\n",
    "input = sys.stdin.readline\n",
    "\n",
    "N, B = map(int, input().split())\n",
    "m = [list(map(int, input().split())) for _ in range(N)]\n",
    "\n",
    "result = solve(m, B)\n",
    "for i in range(N):\n",
    "    for j in range(N):\n",
    "        result[i][j] = result[i][j] % 1000\n",
    "\n",
    "for k in result:\n",
    "    print(*k)"
   ]
  }
 ],
 "metadata": {
  "kernelspec": {
   "display_name": "venv",
   "language": "python",
   "name": "python3"
  },
  "language_info": {
   "codemirror_mode": {
    "name": "ipython",
    "version": 3
   },
   "file_extension": ".py",
   "mimetype": "text/x-python",
   "name": "python",
   "nbconvert_exporter": "python",
   "pygments_lexer": "ipython3",
   "version": "3.10.12"
  }
 },
 "nbformat": 4,
 "nbformat_minor": 5
}
