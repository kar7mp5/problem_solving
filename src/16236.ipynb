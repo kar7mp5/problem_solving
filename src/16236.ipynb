{
 "cells": [
  {
   "cell_type": "code",
   "execution_count": 25,
   "id": "018f99e5",
   "metadata": {},
   "outputs": [
    {
     "name": "stdout",
     "output_type": "stream",
     "text": [
      "  0  0  1\n",
      "  0  0  0\n",
      "  0  0  0\n",
      "2 1\n"
     ]
    }
   ],
   "source": [
    "import sys\n",
    "import io\n",
    "from collections import deque\n",
    "\n",
    "test_input = \"\"\"3\n",
    "0 0 1\n",
    "0 0 0\n",
    "0 9 0\n",
    "\"\"\"\n",
    "\n",
    "sys.stdin = io.StringIO(test_input)\n",
    "\n",
    "input = sys.stdin.readline\n",
    "\n",
    "def print_arr(arr):\n",
    "  for i in range(len(arr[0])):\n",
    "    for j in range(len(arr)):\n",
    "      print(f\"{arr[i][j]:>3}\", end='')\n",
    "    print()\n",
    "\n",
    "N = int(input())\n",
    "grid = [list(map(int, input().split())) for _ in range(N)]  \n",
    "\n",
    "for i in range(N):\n",
    "  for j in range(N):\n",
    "    if grid[i][j] == 9:\n",
    "      start_x, start_y = i, j\n",
    "      grid[i][j] = 0\n",
    "      break\n",
    "\n",
    "print_arr(grid)\n",
    "print(start_x, start_y)"
   ]
  },
  {
   "cell_type": "code",
   "execution_count": 26,
   "id": "5a341c4e",
   "metadata": {},
   "outputs": [
    {
     "data": {
      "text/plain": [
       "(3, 0, 2)"
      ]
     },
     "execution_count": 26,
     "metadata": {},
     "output_type": "execute_result"
    }
   ],
   "source": [
    "dx = [-1, 1, 0, 0]\n",
    "dy = [0, 0, -1, 1]\n",
    "\n",
    "size = 2\n",
    "\n",
    "def bfs(x, y, size):\n",
    "    q = deque([(0, x, y)])\n",
    "    visited = [[False] * N for _ in range(N)]\n",
    "    visited[x][y] = True\n",
    "    \n",
    "    edible_fish = []\n",
    "\n",
    "    while q:\n",
    "        dist, cur_x, cur_y = q.popleft()\n",
    "\n",
    "        for i in range(4):\n",
    "            nx, ny = cur_x + dx[i], cur_y + dy[i]\n",
    "            if 0 <= nx < N and 0 <= ny < N:\n",
    "                if not visited[nx][ny]:\n",
    "                    if grid[nx][ny] <= size:\n",
    "                        visited[nx][ny] = True\n",
    "                        q.append((dist + 1, nx, ny))\n",
    "                        \n",
    "                        if 0 < grid[nx][ny] < size:\n",
    "                            edible_fish.append((dist + 1, nx, ny))\n",
    "\n",
    "    if edible_fish:\n",
    "        edible_fish.sort()\n",
    "        return edible_fish[0]\n",
    "    else:\n",
    "        return None\n",
    "\n",
    "size = 2\n",
    "bfs(start_x, start_y, size)"
   ]
  },
  {
   "cell_type": "code",
   "execution_count": 27,
   "id": "c0cebb6d",
   "metadata": {},
   "outputs": [
    {
     "name": "stdout",
     "output_type": "stream",
     "text": [
      "3\n"
     ]
    }
   ],
   "source": [
    "def find(dist):\n",
    "  x, y = 0, 0\n",
    "  min_dist = float('inf')\n",
    "\n",
    "  for i in range(N):\n",
    "      for j in range(N):\n",
    "          if dist[i][j] != -1 and 1 <= grid[i][j] < size:\n",
    "              if dist[i][j] < min_dist:\n",
    "                  min_dist = dist[i][j]\n",
    "                  x, y = i, j\n",
    "\n",
    "  if min_dist == float('inf'):\n",
    "      return None\n",
    "  else:\n",
    "      return x, y, min_dist\n",
    "\n",
    "result = 0\n",
    "ate = 0\n",
    "total_time = 0\n",
    "eat_count = 0\n",
    "while True:\n",
    "    target = bfs(start_x, start_y, size)\n",
    "    if target is None:\n",
    "        break\n",
    "\n",
    "    dist, fish_x, fish_y = target\n",
    "    \n",
    "    shark_x, shark_y = fish_x, fish_y\n",
    "    \n",
    "    total_time += dist\n",
    "    \n",
    "    grid[fish_x][fish_y] = 0\n",
    "    eat_count += 1\n",
    "    \n",
    "    if eat_count == size:\n",
    "        size += 1\n",
    "        eat_count = 0\n",
    "\n",
    "print(total_time)"
   ]
  }
 ],
 "metadata": {
  "kernelspec": {
   "display_name": "venv",
   "language": "python",
   "name": "python3"
  },
  "language_info": {
   "codemirror_mode": {
    "name": "ipython",
    "version": 3
   },
   "file_extension": ".py",
   "mimetype": "text/x-python",
   "name": "python",
   "nbconvert_exporter": "python",
   "pygments_lexer": "ipython3",
   "version": "3.10.12"
  }
 },
 "nbformat": 4,
 "nbformat_minor": 5
}
