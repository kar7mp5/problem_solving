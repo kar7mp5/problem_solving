{
 "cells": [
  {
   "cell_type": "code",
   "execution_count": null,
   "id": "018f99e5",
   "metadata": {},
   "outputs": [
    {
     "name": "stdout",
     "output_type": "stream",
     "text": [
      "  0  0  1\n",
      "  0  0  0\n",
      "  0  9  0\n",
      "2 1\n"
     ]
    }
   ],
   "source": [
    "import sys\n",
    "import io\n",
    "from collections import deque\n",
    "\n",
    "test_input = \"\"\"3\n",
    "0 0 1\n",
    "0 0 0\n",
    "0 9 0\n",
    "\"\"\"\n",
    "\n",
    "sys.stdin = io.StringIO(test_input)\n",
    "\n",
    "input = sys.stdin.readline\n",
    "\n",
    "def print_arr(arr):\n",
    "  for i in range(len(arr[0])):\n",
    "    for j in range(len(arr)):\n",
    "      print(f\"{arr[i][j]:>3}\", end='')\n",
    "    print()\n",
    "\n",
    "N = int(input())\n",
    "grid = [list(map(int, input().split())) for _ in range(N)]  \n",
    "\n",
    "for i in range(N):\n",
    "  for j in range(N):\n",
    "    if grid[i][j] == 9:\n",
    "      start_x, start_y = i, j\n",
    "      break\n",
    "\n",
    "print_arr(grid)\n",
    "print(start_x, start_y)"
   ]
  },
  {
   "cell_type": "code",
   "execution_count": null,
   "id": "5a341c4e",
   "metadata": {},
   "outputs": [
    {
     "name": "stdout",
     "output_type": "stream",
     "text": [
      " -1 -1 -1\n",
      " -1 -1 -1\n",
      " -1  0 -1\n",
      " -1 -1 -1\n",
      " -1  1 -1\n",
      "  1  0  1\n",
      " -1  2 -1\n",
      "  2  1  2\n",
      "  1  0  1\n",
      " -1  2 -1\n",
      "  2  1  2\n",
      "  1  0  1\n",
      " -1  2 -1\n",
      "  2  1  2\n",
      "  1  0  1\n",
      "  3  2 -1\n",
      "  2  1  2\n",
      "  1  0  1\n",
      "  3  2 -1\n",
      "  2  1  2\n",
      "  1  0  1\n",
      "  3  2 -1\n",
      "  2  1  2\n",
      "  1  0  1\n"
     ]
    }
   ],
   "source": [
    "def bfs(start_x, start_y, size):\n",
    "  visited = [[0]*N for _ in range(N)]\n",
    "  visited[start_x][start_y] = 1;\n",
    "  \n",
    "  q = deque([(start_x, start_y)])\n",
    "  \n",
    "  dx = [-1, 1, 0, 0]\n",
    "  dy = [0, 0, -1, 1]\n",
    "  \n",
    "  while q:\n",
    "    x, y = q.popleft()\n",
    "    \n",
    "    print_arr(visited)\n",
    "    \n",
    "    for i in range(4):\n",
    "      nx = x + dx[i]\n",
    "      ny = y + dy[i]\n",
    "      \n",
    "      if 0 <= nx < N and 0 <= ny < N:\n",
    "        if size >= grid[nx][ny] and visited[nx][ny] == -1:\n",
    "          visited[nx][ny] = visited[x][y] + 1\n",
    "          q.append((nx, ny))\n",
    "\n",
    "bfs(start_x, start_y, 10)"
   ]
  }
 ],
 "metadata": {
  "kernelspec": {
   "display_name": "venv",
   "language": "python",
   "name": "python3"
  },
  "language_info": {
   "codemirror_mode": {
    "name": "ipython",
    "version": 3
   },
   "file_extension": ".py",
   "mimetype": "text/x-python",
   "name": "python",
   "nbconvert_exporter": "python",
   "pygments_lexer": "ipython3",
   "version": "3.10.12"
  }
 },
 "nbformat": 4,
 "nbformat_minor": 5
}
